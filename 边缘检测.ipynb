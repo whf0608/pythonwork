{
 "cells": [
  {
   "cell_type": "code",
   "execution_count": 2,
   "metadata": {},
   "outputs": [
    {
     "data": {
      "image/png": "[encoded data removed]",
      "text/plain": [
       "<Figure size 576x576 with 2 Axes>"
      ]
     },
     "metadata": {
      "needs_background": "light"
     },
     "output_type": "display_data"
    }
   ],
   "source": [
    "#1、查找轮廓（find_contours)\n",
    "import numpy as np\n",
    "import matplotlib.pyplot as plt\n",
    "from skimage import measure,draw \n",
    "\n",
    "#生成二值测试图像\n",
    "img=np.zeros([100,100])\n",
    "img[20:40,60:80]=1  #矩形\n",
    "rr,cc=draw.circle(60,60,10)  #小圆\n",
    "rr1,cc1=draw.circle(20,30,15) #大圆\n",
    "img[rr,cc]=1\n",
    "img[rr1,cc1]=1\n",
    "\n",
    "#检测所有图形的轮廓\n",
    "contours = measure.find_contours(img, 0.5)\n",
    "\n",
    "#绘制轮廓\n",
    "fig, (ax0,ax1) = plt.subplots(1,2,figsize=(8,8))\n",
    "ax0.imshow(img,plt.cm.gray)\n",
    "ax1.imshow(img,plt.cm.gray)\n",
    "for n, contour in enumerate(contours):\n",
    "    ax1.plot(contour[:, 1], contour[:, 0], linewidth=2)\n",
    "ax1.axis('image')\n",
    "ax1.set_xticks([])\n",
    "ax1.set_yticks([])\n",
    "plt.show()"
   ]
  },
  {
   "cell_type": "code",
   "execution_count": null,
   "metadata": {},
   "outputs": [],
   "source": []
  },
  {
   "cell_type": "code",
   "execution_count": null,
   "metadata": {},
   "outputs": [],
   "source": []
  }
 ],
 "metadata": {
  "kernelspec": {
   "display_name": "Python [conda env:pytorchcpu_env]",
   "language": "python",
   "name": "your_env"
  },
  "language_info": {
   "codemirror_mode": {
    "name": "ipython",
    "version": 3
   },
   "file_extension": ".py",
   "mimetype": "text/x-python",
   "name": "python",
   "nbconvert_exporter": "python",
   "pygments_lexer": "ipython3",
   "version": "3.6.9"
  }
 },
 "nbformat": 4,
 "nbformat_minor": 2
}
