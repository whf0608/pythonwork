{
 "cells": [
  {
   "cell_type": "code",
   "execution_count": 2,
   "metadata": {},
   "outputs": [],
   "source": [
    "import cv2\n",
    "import matplotlib.pyplot as plt\n",
    "img=cv2.imread(\"/home/whf/111.png\")"
   ]
  },
  {
   "cell_type": "code",
   "execution_count": 3,
   "metadata": {},
   "outputs": [
    {
     "data": {
      "text/plain": [
       "<matplotlib.image.AxesImage at 0x7f52e98d9f98>"
      ]
     },
     "execution_count": 3,
     "metadata": {},
     "output_type": "execute_result"
    },
    {
     "data": {
      "image/png": "[encoded data removed]",
      "text/plain": [
       "<Figure size 432x288 with 6 Axes>"
      ]
     },
     "metadata": {
      "needs_background": "light"
     },
     "output_type": "display_data"
    }
   ],
   "source": [
    "src = cv2.imread(\"/home/whf/111.png\", cv2.IMREAD_UNCHANGED)\n",
    "src = cv2.cvtColor(src,cv2.COLOR_BGR2RGB)\n",
    "\n",
    "#灰度图像处理\n",
    "GrayImage = cv2.cvtColor(src,cv2.COLOR_BGR2GRAY)\n",
    "\n",
    "#二进制阈值化处理\n",
    "r1, b1 = cv2.threshold(GrayImage, 127, 255, cv2.THRESH_BINARY)\n",
    "\n",
    "#反二进制阈值化处理\n",
    "r2, b2 = cv2.threshold(GrayImage, 127, 255, cv2.THRESH_BINARY_INV)\n",
    "\n",
    " \n",
    "#截断阈值化处理\n",
    "r3, b3 = cv2.threshold(GrayImage, 127, 255, cv2.THRESH_TRUNC)\n",
    "\n",
    "\n",
    "#反阈值化为0处理\n",
    "r4, b4 = cv2.threshold(GrayImage, 127, 255, cv2.THRESH_TOZERO_INV)\n",
    "\n",
    "#阈值化为0处理\n",
    "r5, b5 = cv2.threshold(GrayImage, 127, 255, cv2.THRESH_TOZERO)\n",
    "\n",
    "\n",
    "plt.subplot(3,2,1)\n",
    "plt.imshow(src)\n",
    "plt.subplot(3,2,2)\n",
    "plt.imshow(255-b1,cmap=plt.cm.gray_r)\n",
    "plt.subplot(3,2,3)\n",
    "plt.imshow(255-b2,cmap=plt.cm.gray_r)\n",
    "plt.subplot(3,2,4)\n",
    "plt.imshow(b3,cmap=plt.cm.gray_r)\n",
    "plt.subplot(3,2,5)\n",
    "plt.imshow(b4,cmap=plt.cm.gray_r)\n",
    "plt.subplot(3,2,6)\n",
    "plt.imshow(255-b5,cmap=plt.cm.gray_r)"
   ]
  },
  {
   "cell_type": "code",
   "execution_count": 4,
   "metadata": {},
   "outputs": [],
   "source": [
    "img=GrayImage\n",
    "b6 = cv2.adaptiveThreshold(img, 255, cv2.ADAPTIVE_THRESH_MEAN_C, cv2.THRESH_BINARY, 11, 2)\n",
    " \n",
    "b7 = cv2.adaptiveThreshold(img, 255, cv2.ADAPTIVE_THRESH_GAUSSIAN_C, cv2.THRESH_BINARY, 11, 2)\n",
    " \n",
    "ret, b8 = cv2.threshold(img, 127, 255, cv2.THRESH_BINARY)"
   ]
  },
  {
   "cell_type": "code",
   "execution_count": 5,
   "metadata": {},
   "outputs": [
    {
     "data": {
      "text/plain": [
       "<matplotlib.image.AxesImage at 0x7f52e98a12e8>"
      ]
     },
     "execution_count": 5,
     "metadata": {},
     "output_type": "execute_result"
    },
    {
     "data": {
      "image/png": "[encoded data removed]",
      "text/plain": [
       "<Figure size 432x288 with 3 Axes>"
      ]
     },
     "metadata": {
      "needs_background": "light"
     },
     "output_type": "display_data"
    }
   ],
   "source": [
    "plt.figure(2)\n",
    "plt.subplot(1,4,1)\n",
    "plt.imshow(b6,'gray')\n",
    "plt.subplot(1,4,2)\n",
    "plt.imshow(b7,'gray')\n",
    "plt.subplot(1,4,3)\n",
    "plt.imshow(b8,'gray')"
   ]
  },
  {
   "cell_type": "code",
   "execution_count": 2,
   "metadata": {},
   "outputs": [
    {
     "data": {
      "text/plain": [
       "<matplotlib.image.AxesImage at 0x7fc6c7090470>"
      ]
     },
     "execution_count": 2,
     "metadata": {},
     "output_type": "execute_result"
    },
    {
     "data": {
      "image/png": "[encoded data removed]",
      "text/plain": [
       "<Figure size 432x288 with 1 Axes>"
      ]
     },
     "metadata": {
      "needs_background": "light"
     },
     "output_type": "display_data"
    }
   ],
   "source": [
    "from skimage import data,filters\n",
    "import matplotlib.pyplot as plt\n",
    "image = data.camera()\n",
    "thresh = filters.threshold_otsu(image)   #返回一个阈值\n",
    "dst =(image <= thresh)*1.0   #根据阈值进行分割\n",
    "plt.imshow(dst,plt.cm.gray)"
   ]
  },
  {
   "cell_type": "code",
   "execution_count": 4,
   "metadata": {},
   "outputs": [
    {
     "data": {
      "text/plain": [
       "<matplotlib.image.AxesImage at 0x7fc6c6878128>"
      ]
     },
     "execution_count": 4,
     "metadata": {},
     "output_type": "execute_result"
    },
    {
     "data": {
      "image/png": "[encoded data removed]",
      "text/plain": [
       "<Figure size 432x288 with 3 Axes>"
      ]
     },
     "metadata": {
      "needs_background": "light"
     },
     "output_type": "display_data"
    }
   ],
   "source": [
    "thresh1 = filters.threshold_yen(image) \n",
    "thresh2 = filters.threshold_li(image)\n",
    "thresh3 = filters.threshold_isodata(image)\n",
    "\n",
    "dst1 =(image <= thresh1)*1.0 \n",
    "dst2 =(image <= thresh2)*1.0 \n",
    "dst3 =(image <= thresh3)*1.0 \n",
    "plt.subplot(221)\n",
    "plt.imshow(dst1,plt.cm.gray)\n",
    "plt.subplot(222)\n",
    "plt.imshow(dst2,plt.cm.gray)\n",
    "plt.subplot(223)\n",
    "plt.imshow(dst3,plt.cm.gray)"
   ]
  },
  {
   "cell_type": "code",
   "execution_count": 5,
   "metadata": {},
   "outputs": [
    {
     "ename": "AttributeError",
     "evalue": "module 'skimage.filters' has no attribute 'threshold_adaptive'",
     "output_type": "error",
     "traceback": [
      "\u001b[0;31m---------------------------------------------------------------------------\u001b[0m",
      "\u001b[0;31mAttributeError\u001b[0m                            Traceback (most recent call last)",
      "\u001b[0;32m<ipython-input-5-50965c66dee7>\u001b[0m in \u001b[0;36m<module>\u001b[0;34m\u001b[0m\n\u001b[0;32m----> 1\u001b[0;31m \u001b[0mdst4\u001b[0m \u001b[0;34m=\u001b[0m\u001b[0mfilters\u001b[0m\u001b[0;34m.\u001b[0m\u001b[0mthreshold_adaptive\u001b[0m\u001b[0;34m(\u001b[0m\u001b[0mimage\u001b[0m\u001b[0;34m,\u001b[0m \u001b[0;36m15\u001b[0m\u001b[0;34m,\u001b[0m\u001b[0;34m'mean'\u001b[0m\u001b[0;34m)\u001b[0m \u001b[0;31m#返回一个阈值图像\u001b[0m\u001b[0;34m\u001b[0m\u001b[0;34m\u001b[0m\u001b[0m\n\u001b[0m\u001b[1;32m      2\u001b[0m \u001b[0mdst5\u001b[0m \u001b[0;34m=\u001b[0m\u001b[0mfilters\u001b[0m\u001b[0;34m.\u001b[0m\u001b[0mthreshold_adaptive\u001b[0m\u001b[0;34m(\u001b[0m\u001b[0mimage\u001b[0m\u001b[0;34m,\u001b[0m \u001b[0;36m15\u001b[0m\u001b[0;34m,\u001b[0m\u001b[0;34m'genssian'\u001b[0m\u001b[0;34m)\u001b[0m \u001b[0;31m#返回一个阈值图像\u001b[0m\u001b[0;34m\u001b[0m\u001b[0;34m\u001b[0m\u001b[0m\n\u001b[1;32m      3\u001b[0m \u001b[0mdst6\u001b[0m \u001b[0;34m=\u001b[0m\u001b[0mfilters\u001b[0m\u001b[0;34m.\u001b[0m\u001b[0mthreshold_adaptive\u001b[0m\u001b[0;34m(\u001b[0m\u001b[0mimage\u001b[0m\u001b[0;34m,\u001b[0m \u001b[0;36m15\u001b[0m\u001b[0;34m,\u001b[0m\u001b[0;34m'generic'\u001b[0m\u001b[0;34m)\u001b[0m \u001b[0;31m#返回一个阈值图像\u001b[0m\u001b[0;34m\u001b[0m\u001b[0;34m\u001b[0m\u001b[0m\n\u001b[1;32m      4\u001b[0m \u001b[0mdst7\u001b[0m \u001b[0;34m=\u001b[0m\u001b[0mfilters\u001b[0m\u001b[0;34m.\u001b[0m\u001b[0mthreshold_adaptive\u001b[0m\u001b[0;34m(\u001b[0m\u001b[0mimage\u001b[0m\u001b[0;34m,\u001b[0m \u001b[0;36m15\u001b[0m\u001b[0;34m,\u001b[0m\u001b[0;34m'median'\u001b[0m\u001b[0;34m)\u001b[0m \u001b[0;31m#返回一个阈值图像\u001b[0m\u001b[0;34m\u001b[0m\u001b[0;34m\u001b[0m\u001b[0m\n\u001b[1;32m      5\u001b[0m \u001b[0;34m\u001b[0m\u001b[0m\n",
      "\u001b[0;31mAttributeError\u001b[0m: module 'skimage.filters' has no attribute 'threshold_adaptive'"
     ]
    }
   ],
   "source": [
    "dst4 =filters.threshold_adaptive(image, 15,'mean') #返回一个阈值图像\n",
    "dst5 =filters.threshold_adaptive(image, 15,'genssian') #返回一个阈值图像\n",
    "dst6 =filters.threshold_adaptive(image, 15,'generic') #返回一个阈值图像\n",
    "dst7 =filters.threshold_adaptive(image, 15,'median') #返回一个阈值图像\n",
    "\n",
    "plt.subplot(221)\n",
    "plt.imshow(dst4,plt.cm.gray)\n",
    "plt.subplot(222)\n",
    "plt.imshow(dst5,plt.cm.gray)\n",
    "plt.subplot(223)\n",
    "plt.imshow(dst6,plt.cm.gray)"
   ]
  },
  {
   "cell_type": "code",
   "execution_count": 9,
   "metadata": {},
   "outputs": [
    {
     "data": {
      "text/plain": [
       "<matplotlib.image.AxesImage at 0x7fc6c54e0c50>"
      ]
     },
     "execution_count": 9,
     "metadata": {},
     "output_type": "execute_result"
    },
    {
     "data": {
      "image/png": "[encoded data removed]",
      "text/plain": [
       "<Figure size 576x576 with 3 Axes>"
      ]
     },
     "metadata": {
      "needs_background": "light"
     },
     "output_type": "display_data"
    }
   ],
   "source": [
    "#形态学滤波\n",
    "\n",
    "import skimage.morphology as sm\n",
    "img=data.checkerboard()\n",
    "dst1=sm.dilation(img,sm.square(5))  #用边长为5的正方形滤波器进行膨胀滤波\n",
    "dst2=sm.dilation(img,sm.disk(5))  #用边长为15的正方形滤波器进行膨胀滤波\n",
    "\n",
    "plt.figure('morphology',figsize=(8,8))\n",
    "plt.subplot(131)\n",
    "plt.title('origin image')\n",
    "plt.imshow(img,plt.cm.gray)\n",
    "\n",
    "plt.subplot(132)\n",
    "plt.title('morphological image')\n",
    "plt.imshow(dst1,plt.cm.gray)\n",
    "\n",
    "plt.subplot(133)\n",
    "plt.title('morphological image')\n",
    "plt.imshow(dst2,plt.cm.gray)"
   ]
  },
  {
   "cell_type": "code",
   "execution_count": 12,
   "metadata": {},
   "outputs": [
    {
     "data": {
      "text/plain": [
       "<matplotlib.image.AxesImage at 0x7fc6c53eb358>"
      ]
     },
     "execution_count": 12,
     "metadata": {},
     "output_type": "execute_result"
    },
    {
     "data": {
      "image/png": "[encoded data removed]",
      "text/plain": [
       "<Figure size 432x288 with 1 Axes>"
      ]
     },
     "metadata": {
      "needs_background": "light"
     },
     "output_type": "display_data"
    }
   ],
   "source": [
    "#morphology.square: 正方形\n",
    "#morphology.disk:  平面圆形\n",
    "#morphology.ball: 球形\n",
    "#morphology.cube: 立方体形\n",
    "#morphology.diamond: 钻石形\n",
    "#morphology.rectangle: 矩形\n",
    "#morphology.star: 星形\n",
    "#morphology.octagon: 八角形\n",
    "#morphology.octahedron： 八面体\n",
    "\n",
    "\n",
    "dsik4=sm.binary_dilation(image, selem=None)\n",
    "plt.imshow(dsik4,plt.cm.gray)"
   ]
  },
  {
   "cell_type": "code",
   "execution_count": 13,
   "metadata": {},
   "outputs": [
    {
     "data": {
      "text/plain": [
       "<matplotlib.image.AxesImage at 0x7fc6c53395f8>"
      ]
     },
     "execution_count": 13,
     "metadata": {},
     "output_type": "execute_result"
    },
    {
     "data": {
      "image/png": "[encoded data removed]",
      "text/plain": [
       "<Figure size 576x576 with 3 Axes>"
      ]
     },
     "metadata": {
      "needs_background": "light"
     },
     "output_type": "display_data"
    }
   ],
   "source": [
    "#腐蚀性\n",
    "img=data.checkerboard()\n",
    "dst1=sm.erosion(img,sm.square(5))  #用边长为5的正方形滤波器进行膨胀滤波\n",
    "dst2=sm.erosion(img,sm.square(25))  #用边长为25的正方形滤波器进行膨胀滤波\n",
    "\n",
    "plt.figure('morphology',figsize=(8,8))\n",
    "plt.subplot(131)\n",
    "plt.title('origin image')\n",
    "plt.imshow(img,plt.cm.gray)\n",
    "\n",
    "plt.subplot(132)\n",
    "plt.title('morphological image')\n",
    "plt.imshow(dst1,plt.cm.gray)\n",
    "\n",
    "plt.subplot(133)\n",
    "plt.title('morphological image')\n",
    "plt.imshow(dst2,plt.cm.gray)"
   ]
  },
  {
   "cell_type": "code",
   "execution_count": 16,
   "metadata": {},
   "outputs": [
    {
     "data": {
      "text/plain": [
       "(-0.5, 199.5, 199.5, -0.5)"
      ]
     },
     "execution_count": 16,
     "metadata": {},
     "output_type": "execute_result"
    },
    {
     "data": {
      "image/png": "[encoded data removed]",
      "text/plain": [
       "<Figure size 576x576 with 2 Axes>"
      ]
     },
     "metadata": {
      "needs_background": "light"
     },
     "output_type": "display_data"
    }
   ],
   "source": [
    "#开运算\n",
    "\n",
    "from skimage import io,color\n",
    "import skimage.morphology as sm\n",
    "import matplotlib.pyplot as plt\n",
    "img=color.rgb2gray(img)\n",
    "dst=sm.opening(img,sm.disk(9))  #用边长为9的圆形滤波器进行膨胀滤波\n",
    "\n",
    "plt.figure('morphology',figsize=(8,8))\n",
    "plt.subplot(121)\n",
    "plt.title('origin image')\n",
    "plt.imshow(img,plt.cm.gray)\n",
    "plt.axis('off')\n",
    "\n",
    "plt.subplot(122)\n",
    "plt.title('morphological image')\n",
    "plt.imshow(dst,plt.cm.gray)\n",
    "plt.axis('off')"
   ]
  },
  {
   "cell_type": "code",
   "execution_count": 17,
   "metadata": {},
   "outputs": [
    {
     "data": {
      "text/plain": [
       "(-0.5, 199.5, 199.5, -0.5)"
      ]
     },
     "execution_count": 17,
     "metadata": {},
     "output_type": "execute_result"
    },
    {
     "data": {
      "image/png": "[encoded data removed]",
      "text/plain": [
       "<Figure size 576x576 with 2 Axes>"
      ]
     },
     "metadata": {
      "needs_background": "light"
     },
     "output_type": "display_data"
    }
   ],
   "source": [
    "#闭运算\n",
    "\n",
    "dst=sm.closing(img,sm.disk(9))  #用边长为5的圆形滤波器进行膨胀滤波\n",
    "\n",
    "plt.figure('morphology',figsize=(8,8))\n",
    "plt.subplot(121)\n",
    "plt.title('origin image')\n",
    "plt.imshow(img,plt.cm.gray)\n",
    "plt.axis('off')\n",
    "\n",
    "plt.subplot(122)\n",
    "plt.title('morphological image')\n",
    "plt.imshow(dst,plt.cm.gray)\n",
    "plt.axis('off')"
   ]
  },
  {
   "cell_type": "code",
   "execution_count": 18,
   "metadata": {},
   "outputs": [
    {
     "data": {
      "text/plain": [
       "(-0.5, 199.5, 199.5, -0.5)"
      ]
     },
     "execution_count": 18,
     "metadata": {},
     "output_type": "execute_result"
    },
    {
     "data": {
      "image/png": "[encoded data removed]",
      "text/plain": [
       "<Figure size 576x576 with 2 Axes>"
      ]
     },
     "metadata": {
      "needs_background": "light"
     },
     "output_type": "display_data"
    }
   ],
   "source": [
    "#黑帽\n",
    "dst=sm.black_tophat(img,sm.square(21))  \n",
    "\n",
    "plt.figure('morphology',figsize=(8,8))\n",
    "plt.subplot(121)\n",
    "plt.title('origin image')\n",
    "plt.imshow(img,plt.cm.gray)\n",
    "plt.axis('off')\n",
    "\n",
    "plt.subplot(122)\n",
    "plt.title('morphological image')\n",
    "plt.imshow(dst,plt.cm.gray)\n",
    "plt.axis('off')"
   ]
  },
  {
   "cell_type": "code",
   "execution_count": null,
   "metadata": {},
   "outputs": [],
   "source": []
  }
 ],
 "metadata": {
  "kernelspec": {
   "display_name": "Python [conda env:pytorchcpu_env]",
   "language": "python",
   "name": "your_env"
  },
  "language_info": {
   "codemirror_mode": {
    "name": "ipython",
    "version": 3
   },
   "file_extension": ".py",
   "mimetype": "text/x-python",
   "name": "python",
   "nbconvert_exporter": "python",
   "pygments_lexer": "ipython3",
   "version": "3.6.9"
  }
 },
 "nbformat": 4,
 "nbformat_minor": 2
}
